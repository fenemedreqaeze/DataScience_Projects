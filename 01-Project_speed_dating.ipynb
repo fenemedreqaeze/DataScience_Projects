{
 "cells": [
  {
   "cell_type": "markdown",
   "metadata": {},
   "source": [
    "# Speed Dating\n",
    "\n",
    "## Challenge description\n",
    "\n",
    "We will start a new data visualization and exploration project. Your goal will be to try to understand *love*! It's a very complicated subject so we've simplified it. Your goal is going to be to understand what happens during a speed dating and especially to understand what will influence the obtaining of a **second date**.\n",
    "\n",
    "This is a Kaggle competition on which you can find more details here :\n",
    "\n",
    "[Speed Dating Dataset](https://www.kaggle.com/annavictoria/speed-dating-experiment#Speed%20Dating%20Data%20Key.doc)\n",
    "\n",
    "Take some time to read the description of the challenge and try to understand each of the variables in the dataset. Help yourself with this from the document : *Speed Dating - Variable Description.md*\n",
    "\n",
    "### Rendering\n",
    "\n",
    "To be successful in this project, you will need to do a descriptive analysis of the main factors that influence getting a second appointment. \n",
    "\n",
    "Over the next few days, you'll learn how to use python libraries like seaborn, plotly and bokeh to produce data visualizations that highlight relevant facts about the dataset.\n",
    "\n",
    "For today, you can start exploring the dataset with pandas to extract some statistics."
   ]
  },
  {
   "cell_type": "code",
   "execution_count": 14,
   "metadata": {},
   "outputs": [],
   "source": [
    "import pandas as pd"
   ]
  },
  {
   "cell_type": "code",
   "execution_count": 25,
   "metadata": {},
   "outputs": [],
   "source": [
    "dataset = pd.read_csv(\"Speed.csv\",  encoding = \"ISO-8859-1\")\n",
    "dataset1 = dataset.copy()"
   ]
  },
  {
   "cell_type": "code",
   "execution_count": 26,
   "metadata": {},
   "outputs": [
    {
     "name": "stdout",
     "output_type": "stream",
     "text": [
      "      iid    id  gender  idg  condtn  wave  round  position  positin1  order  \\\n",
      "0       1   1.0       0    1       1     1     10         7       NaN      4   \n",
      "1       1   1.0       0    1       1     1     10         7       NaN      3   \n",
      "2       1   1.0       0    1       1     1     10         7       NaN     10   \n",
      "3       1   1.0       0    1       1     1     10         7       NaN      5   \n",
      "4       1   1.0       0    1       1     1     10         7       NaN      7   \n",
      "...   ...   ...     ...  ...     ...   ...    ...       ...       ...    ...   \n",
      "8373  552  22.0       1   44       2    21     22        14      10.0      5   \n",
      "8374  552  22.0       1   44       2    21     22        13      10.0      4   \n",
      "8375  552  22.0       1   44       2    21     22        19      10.0     10   \n",
      "8376  552  22.0       1   44       2    21     22         3      10.0     16   \n",
      "8377  552   NaN       1   44       2    21     22         2      10.0     15   \n",
      "\n",
      "      ...  attr3_3  sinc3_3  intel3_3  fun3_3  amb3_3  attr5_3  sinc5_3  \\\n",
      "0     ...      5.0      7.0       7.0     7.0     7.0      NaN      NaN   \n",
      "1     ...      5.0      7.0       7.0     7.0     7.0      NaN      NaN   \n",
      "2     ...      5.0      7.0       7.0     7.0     7.0      NaN      NaN   \n",
      "3     ...      5.0      7.0       7.0     7.0     7.0      NaN      NaN   \n",
      "4     ...      5.0      7.0       7.0     7.0     7.0      NaN      NaN   \n",
      "...   ...      ...      ...       ...     ...     ...      ...      ...   \n",
      "8373  ...      8.0      5.0       7.0     6.0     7.0      9.0      5.0   \n",
      "8374  ...      8.0      5.0       7.0     6.0     7.0      9.0      5.0   \n",
      "8375  ...      8.0      5.0       7.0     6.0     7.0      9.0      5.0   \n",
      "8376  ...      8.0      5.0       7.0     6.0     7.0      9.0      5.0   \n",
      "8377  ...      8.0      5.0       7.0     6.0     7.0      9.0      5.0   \n",
      "\n",
      "      intel5_3  fun5_3  amb5_3  \n",
      "0          NaN     NaN     NaN  \n",
      "1          NaN     NaN     NaN  \n",
      "2          NaN     NaN     NaN  \n",
      "3          NaN     NaN     NaN  \n",
      "4          NaN     NaN     NaN  \n",
      "...        ...     ...     ...  \n",
      "8373       9.0     5.0     6.0  \n",
      "8374       9.0     5.0     6.0  \n",
      "8375       9.0     5.0     6.0  \n",
      "8376       9.0     5.0     6.0  \n",
      "8377       9.0     5.0     6.0  \n",
      "\n",
      "[8378 rows x 195 columns]\n"
     ]
    },
    {
     "data": {
      "text/plain": [
       "pandas.core.frame.DataFrame"
      ]
     },
     "execution_count": 26,
     "metadata": {},
     "output_type": "execute_result"
    }
   ],
   "source": [
    "print (dataset1)\n",
    "type(dataset1)\n",
    "type(dataset)"
   ]
  },
  {
   "cell_type": "markdown",
   "metadata": {},
   "source": [
    "print(\"dataset1 dimension is:{}\".format(dataset1.shape))\n",
    "print(\"the first line of the dataset\")\n",
    "print(dataset1.head)"
   ]
  },
  {
   "cell_type": "code",
   "execution_count": null,
   "metadata": {},
   "outputs": [],
   "source": []
  },
  {
   "cell_type": "markdown",
   "metadata": {},
   "source": [
    "## Project speed dating\n",
    "\n",
    "#### import library\n",
    "```\n",
    "import pandas as pd\n",
    "import seaborn as sn\n",
    "import matplotlib.pyplot as plt\n",
    "```\n",
    "\n",
    "### basics statistiques and first observation\n",
    "```\n",
    "dataset = pd.read_csv(\"Speed.csv\",  encoding = \"ISO-8859-1\")\n",
    "dataset1 = dataset.copy()\n",
    "\n",
    "print (dataset1)\n",
    "type(dataset1)\n",
    "type(dataset)\n",
    "\n",
    "print(\"dataset1 dimension is:{}\".format(dataset1.shape))\n",
    "print(\"the first line of the dataset\")\n",
    "print(dataset1.head)\n",
    "```\n",
    "\n",
    "### link to my GitHub portfolio\n",
    "\n",
    "```\n",
    "[My GiHub protfolio](https://github.com/fenemedreqaeze)\n",
    "```\n"
   ]
  },
  {
   "cell_type": "code",
   "execution_count": null,
   "metadata": {},
   "outputs": [],
   "source": []
  }
 ],
 "metadata": {
  "kernelspec": {
   "display_name": "Python 3",
   "language": "python",
   "name": "python3"
  },
  "language_info": {
   "codemirror_mode": {
    "name": "ipython",
    "version": 3
   },
   "file_extension": ".py",
   "mimetype": "text/x-python",
   "name": "python",
   "nbconvert_exporter": "python",
   "pygments_lexer": "ipython3",
   "version": "3.8.5"
  }
 },
 "nbformat": 4,
 "nbformat_minor": 4
}

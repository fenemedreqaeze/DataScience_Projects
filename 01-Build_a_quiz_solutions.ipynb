{
 "cells": [
  {
   "cell_type": "markdown",
   "metadata": {
    "colab_type": "text",
    "id": "FY347VxWs_bJ"
   },
   "source": [
    "# Build a quizz\n",
    "\n",
    "---\n",
    "\n",
    "\n"
   ]
  },
  {
   "cell_type": "markdown",
   "metadata": {
    "colab_type": "text",
    "id": "qJizpyqVwYnF"
   },
   "source": [
    "Let's tackle our first project together. Find a partner and start coding a quiz together! Your program should: \n",
    "\n",
    "1. Ask a question to a user via the console \n",
    "2. Verify whether the answer is correct or not \n",
    "3. If the answer is correct, you should print out: `Good job! This is the right answer`\n",
    "\n",
    "* Else, it should print out : `Too bad! that is not the correct answer`\n",
    "\n",
    "4. Ask three questions following this model.\n",
    "\n"
   ]
  },
  {
   "cell_type": "code",
   "execution_count": 1,
   "metadata": {
    "colab": {
     "base_uri": "https://localhost:8080/",
     "height": 136
    },
    "colab_type": "code",
    "id": "EQxWuVl7yFoU",
    "outputId": "cf3ee10c-9d8f-4d96-82b0-f730321d4a2f"
   },
   "outputs": [
    {
     "name": "stdout",
     "output_type": "stream",
     "text": [
      "Voici notre quiz\n",
      "Combien de fois la France a gagné la coupe du monde ?3\n",
      "Dommage, ce n’est pas la bonne réponse...\n",
      "Quand a été fondé Apple ?1976\n",
      "Bravo, c’est la bonne réponse !\n",
      "Qui a fondé SpaceX ?Elon Musk\n",
      "Bravo, c’est la bonne réponse !\n"
     ]
    }
   ],
   "source": [
    "print(\"Voici notre quiz\")\n",
    "\n",
    "question1= input(\"Combien de fois la France a gagné la coupe du monde ?\")\n",
    "\n",
    "if question1 != \"2\":\n",
    "    print(\"Dommage, ce n’est pas la bonne réponse...\")\n",
    "else:\n",
    "    print(\"Bravo, c’est la bonne réponse !\")\n",
    "     \n",
    "    \n",
    "question2 = input(\"Quand a été fondé Apple ?\")\n",
    "\n",
    "if question2 != \"1976\":\n",
    "    print(\"Dommage, ce n’est pas la bonne réponse...\")\n",
    "else:\n",
    "    print(\"Bravo, c’est la bonne réponse !\")\n",
    "  \n",
    "  \n",
    "    \n",
    "question3 = input(\"Qui a fondé SpaceX ?\")\n",
    "question3 = question3.lower()\n",
    "\n",
    "if question3 != \"elon musk\":\n",
    "    print(\"Dommage, ce n’est pas la bonne réponse...\")\n",
    "else:\n",
    "    print(\"Bravo, c’est la bonne réponse !\")\n",
    "     "
   ]
  },
  {
   "cell_type": "markdown",
   "metadata": {
    "colab_type": "text",
    "id": "sLMbYgaOyxiX"
   },
   "source": [
    "There's a problem with our quizz : if the user has not given the right answer, the program goes to next question. We would rather like to ask again the same question if the answer was wrong.\n",
    "\n",
    "5. Using a `while` loop, make sure that the same question will be asked again when the answer was wrong\n",
    "\n",
    "6. Rewrite your code such that this behaviour is applied to all questions."
   ]
  },
  {
   "cell_type": "code",
   "execution_count": 2,
   "metadata": {
    "colab": {
     "base_uri": "https://localhost:8080/",
     "height": 170
    },
    "colab_type": "code",
    "id": "csyxqJzBxPfN",
    "outputId": "0e671bec-2b70-424e-f110-d4792423dd7a"
   },
   "outputs": [
    {
     "name": "stdout",
     "output_type": "stream",
     "text": [
      "Voici notre quiz\n",
      "Combien de fois la France a gagné la coupe du monde ?3\n",
      "Ce n'est pas la bonne réponse ...\n",
      "Combien de fois la France a gagné la coupe du monde ?2\n",
      "Quand a été fondé Apple ?1977\n",
      "Ce n'est pas la bonne réponse ...\n",
      "Quand a été fondé Apple ?1976\n",
      "Qui a fondé SpaceX ?Donald Trump\n",
      "Ce n'est pas la bonne réponse ...\n",
      "Qui a fondé SpaceX ?Elon Musk\n",
      "Bravo ! Tu as gagné le quiz !\n"
     ]
    }
   ],
   "source": [
    "print(\"Voici notre quiz\")\n",
    "question1= input(\"Combien de fois la France a gagné la coupe du monde ?\")\n",
    "\n",
    "while question1 != \"2\":\n",
    "    print(\"Ce n'est pas la bonne réponse ...\")\n",
    "    question1 = input(\"Combien de fois la France a gagné la coupe du monde ?\")\n",
    "\n",
    "question2 = input(\"Quand a été fondé Apple ?\")\n",
    "while question2 != \"1976\":\n",
    "    print(\"Ce n'est pas la bonne réponse ...\")\n",
    "    question2 = input(\"Quand a été fondé Apple ?\")\n",
    "\n",
    "question3 = input(\"Qui a fondé SpaceX ?\")\n",
    "question3 = question3.lower()\n",
    "while question3 != \"elon musk\":\n",
    "    print(\"Ce n'est pas la bonne réponse ...\")\n",
    "    question3 = input(\"Qui a fondé SpaceX ?\")\n",
    "    question3 = question3.lower()\n",
    "        \n",
    "print(\"Bravo ! Tu as gagné le quiz !\")\n"
   ]
  },
  {
   "cell_type": "markdown",
   "metadata": {
    "colab_type": "text",
    "id": "nh4voWn8x3dM"
   },
   "source": [
    "Now, we would like to tackle a last problem : we want to allow only 3 wrong answers (among all questions).\n",
    "\n",
    "7. Improve your code : if the user makes 3 wrong answers, the program should stop and print (\"Too bad, you lost the game !\")\n"
   ]
  },
  {
   "cell_type": "code",
   "execution_count": 1,
   "metadata": {
    "colab": {
     "base_uri": "https://localhost:8080/",
     "height": 170
    },
    "colab_type": "code",
    "id": "adKPQe1Hsi2g",
    "outputId": "45d36fc8-90ae-4f00-b73a-73b1e6e57e6e",
    "tags": []
   },
   "outputs": [
    {
     "name": "stdout",
     "output_type": "stream",
     "text": [
      "Voici notre quiz, tu as trois chances !\n",
      "Dommage ! Il te reste 2 chances\n",
      "Dommage ! Il te reste 1 chances\n",
      "Bravo ! Tu as gagné le quiz !\n"
     ]
    }
   ],
   "source": [
    "nb_de_chances = 3\n",
    "\n",
    "print(\"Voici notre quiz, tu as trois chances !\")\n",
    "question1= input(\"Combien de fois la France a gagné la coupe du monde ? \")\n",
    "\n",
    "while question1 != \"2\":\n",
    "    nb_de_chances -= 1\n",
    "    print(\"Dommage ! Il te reste {} chances\".format(nb_de_chances))\n",
    "    if nb_de_chances == 0:\n",
    "        print(\"Oh non ! Tu as perdu le jeu...\")\n",
    "        break\n",
    "    question1 = input(\"Combien de fois la France a gagné la coupe du monde ? \")\n",
    "\n",
    "if nb_de_chances > 0:\n",
    "    question2 = input(\"Quand a été fondé Apple ? \")\n",
    "    while question2 != \"1976\":\n",
    "        nb_de_chances -=1\n",
    "        print(\"Dommage ! Il te reste {} chances\".format(nb_de_chances))\n",
    "        if nb_de_chances == 0:\n",
    "            print(\"Oh non ! Tu as perdu le jeu...\")\n",
    "            break\n",
    "        question2 = input(\"Quand a été fondé Apple ? \")\n",
    "\n",
    "\n",
    "if nb_de_chances > 0:\n",
    "    question3 = input(\"Qui a fondé SpaceX ? \")\n",
    "    question3 = question3.lower()\n",
    "    while question3 != \"elon musk\":\n",
    "        nb_de_chances -=1\n",
    "        print(\"Dommage ! Il te reste {} chances\".format(nb_de_chances))\n",
    "        if nb_de_chances == 0:\n",
    "            print(\"Oh non ! Tu as perdu le jeu...\")\n",
    "            break\n",
    "        question3 = input(\"Qui a fondé SpaceX ? \")\n",
    "        question3 = question3.lower()\n",
    "\n",
    "if nb_de_chances > 0:\n",
    "    print(\"Bravo ! Tu as gagné le quiz !\")\n"
   ]
  },
  {
   "cell_type": "code",
   "execution_count": 0,
   "metadata": {
    "colab": {},
    "colab_type": "code",
    "id": "rA-XJKh-orgc"
   },
   "outputs": [],
   "source": []
  }
 ],
 "metadata": {
  "colab": {
   "name": "Construire un quiz - SOLUTIONS S1-1A.ipynb",
   "provenance": []
  },
  "kernelspec": {
   "display_name": "Python 3",
   "language": "python",
   "name": "python3"
  },
  "language_info": {
   "codemirror_mode": {
    "name": "ipython",
    "version": 3
   },
   "file_extension": ".py",
   "mimetype": "text/x-python",
   "name": "python",
   "nbconvert_exporter": "python",
   "pygments_lexer": "ipython3",
   "version": "3.7.6"
  }
 },
 "nbformat": 4,
 "nbformat_minor": 1
}
